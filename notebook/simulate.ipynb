{
 "cells": [
  {
   "cell_type": "code",
   "execution_count": 1,
   "id": "7c5a4982",
   "metadata": {},
   "outputs": [],
   "source": [
    "%load_ext autoreload\n",
    "%autoreload 2\n",
    "\n",
    "import sys, os\n",
    "# if you're not launching jupyter from the repo root, fix the path:\n",
    "repo_root = os.path.abspath(os.path.join(os.getcwd(), \"..\"))\n",
    "if repo_root not in sys.path:\n",
    "    sys.path.insert(0, repo_root)"
   ]
  },
  {
   "cell_type": "code",
   "execution_count": 2,
   "id": "ba9bc8c3",
   "metadata": {},
   "outputs": [
    {
     "name": "stderr",
     "output_type": "stream",
     "text": [
      "INFO:drake:Meshcat listening for connections at http://localhost:7000\n"
     ]
    },
    {
     "name": "stdout",
     "output_type": "stream",
     "text": [
      "Meshcat: http://localhost:7000\n"
     ]
    }
   ],
   "source": [
    "from pydrake.all import StartMeshcat\n",
    "meshcat = StartMeshcat()\n",
    "print(\"Meshcat:\", meshcat.web_url())"
   ]
  },
  {
   "cell_type": "code",
   "execution_count": 70,
   "id": "b25989c9",
   "metadata": {},
   "outputs": [],
   "source": [
    "from rocky.build import build_robot_diagram\n",
    "from rocky import utils\n",
    "import os\n",
    "\n",
    "urdf = os.path.join(repo_root, \"rocky.urdf\")   # or absolute path\n",
    "bundle = build_robot_diagram(\n",
    "    urdf_path=urdf,\n",
    "    time_step=1e-3,\n",
    "    gravity_vec=(0.,0.,0.),\n",
    "    meshcat=meshcat,            # <- pass meshcat from notebook\n",
    ")\n",
    "\n",
    "bundle = build_robot_diagram(urdf, time_step=1e-3, gravity_vec=(0,0,0), meshcat=meshcat)\n",
    "plant, plant_context, sim = bundle.plant, bundle.plant_context, bundle.simulator\n",
    "\n",
    "utils.set_joint_positions(plant, plant_context, [0.0, 0.0])\n",
    "utils.set_zero_torques(plant, plant_context)\n",
    "utils.advance(sim, 2.0)"
   ]
  }
 ],
 "metadata": {
  "kernelspec": {
   "display_name": "venv (3.12.3)",
   "language": "python",
   "name": "python3"
  },
  "language_info": {
   "codemirror_mode": {
    "name": "ipython",
    "version": 3
   },
   "file_extension": ".py",
   "mimetype": "text/x-python",
   "name": "python",
   "nbconvert_exporter": "python",
   "pygments_lexer": "ipython3",
   "version": "3.12.3"
  }
 },
 "nbformat": 4,
 "nbformat_minor": 5
}
