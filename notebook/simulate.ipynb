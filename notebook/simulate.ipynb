{
 "cells": [
  {
   "cell_type": "code",
   "execution_count": 23,
   "id": "7c5a4982",
   "metadata": {},
   "outputs": [
    {
     "name": "stdout",
     "output_type": "stream",
     "text": [
      "The autoreload extension is already loaded. To reload it, use:\n",
      "  %reload_ext autoreload\n"
     ]
    }
   ],
   "source": [
    "%load_ext autoreload\n",
    "%autoreload 2\n",
    "\n",
    "import sys, os\n",
    "# if you're not launching jupyter from the repo root, fix the path:\n",
    "repo_root = os.path.abspath(os.path.join(os.getcwd(), \"..\"))\n",
    "if repo_root not in sys.path:\n",
    "    sys.path.insert(0, repo_root)"
   ]
  },
  {
   "cell_type": "code",
   "execution_count": 24,
   "id": "ba9bc8c3",
   "metadata": {},
   "outputs": [
    {
     "name": "stderr",
     "output_type": "stream",
     "text": [
      "INFO:drake:Meshcat listening for connections at http://localhost:7004\n"
     ]
    },
    {
     "name": "stdout",
     "output_type": "stream",
     "text": [
      "Meshcat: http://localhost:7004\n"
     ]
    }
   ],
   "source": [
    "from pydrake.all import StartMeshcat\n",
    "meshcat = StartMeshcat()\n",
    "print(\"Meshcat:\", meshcat.web_url())"
   ]
  },
  {
   "cell_type": "code",
   "execution_count": 25,
   "id": "b25989c9",
   "metadata": {},
   "outputs": [
    {
     "ename": "TypeError",
     "evalue": "SimBundle.__init__() got an unexpected keyword argument 'enemy_target_frame'",
     "output_type": "error",
     "traceback": [
      "\u001b[31m---------------------------------------------------------------------------\u001b[39m",
      "\u001b[31mTypeError\u001b[39m                                 Traceback (most recent call last)",
      "\u001b[36mCell\u001b[39m\u001b[36m \u001b[39m\u001b[32mIn[25]\u001b[39m\u001b[32m, line 10\u001b[39m\n\u001b[32m      7\u001b[39m \u001b[38;5;66;03m# assume repo_root and meshcat are already defined in your notebook / script\u001b[39;00m\n\u001b[32m      8\u001b[39m urdf = os.path.join(repo_root, \u001b[33m\"\u001b[39m\u001b[33mrocky.urdf\u001b[39m\u001b[33m\"\u001b[39m)   \u001b[38;5;66;03m# version WITHOUT wall_to_world\u001b[39;00m\n\u001b[32m---> \u001b[39m\u001b[32m10\u001b[39m bundle = \u001b[43mbuild_robot_diagram_two\u001b[49m\u001b[43m(\u001b[49m\n\u001b[32m     11\u001b[39m \u001b[43m    \u001b[49m\u001b[43murdf_path\u001b[49m\u001b[43m=\u001b[49m\u001b[43murdf\u001b[49m\u001b[43m,\u001b[49m\n\u001b[32m     12\u001b[39m \u001b[43m    \u001b[49m\u001b[43mtime_step\u001b[49m\u001b[43m=\u001b[49m\u001b[32;43m1e-3\u001b[39;49m\u001b[43m,\u001b[49m\n\u001b[32m     13\u001b[39m \u001b[43m    \u001b[49m\u001b[43mgravity_vec\u001b[49m\u001b[43m=\u001b[49m\u001b[43m(\u001b[49m\u001b[32;43m0.\u001b[39;49m\u001b[43m,\u001b[49m\u001b[43m \u001b[49m\u001b[32;43m0.\u001b[39;49m\u001b[43m,\u001b[49m\u001b[43m \u001b[49m\u001b[43m-\u001b[49m\u001b[32;43m9.0\u001b[39;49m\u001b[43m)\u001b[49m\u001b[43m,\u001b[49m\n\u001b[32m     14\u001b[39m \u001b[43m    \u001b[49m\u001b[43mmeshcat\u001b[49m\u001b[43m=\u001b[49m\u001b[43mmeshcat\u001b[49m\u001b[43m,\u001b[49m\n\u001b[32m     15\u001b[39m \u001b[43m)\u001b[49m\n\u001b[32m     17\u001b[39m plant, ctx, sim = bundle.plant, bundle.plant_context, bundle.simulator\n\u001b[32m     18\u001b[39m ally, enemy = bundle.ally, bundle.enemy\n",
      "\u001b[36mFile \u001b[39m\u001b[32m~/UPenn/5170/Final Project/RoboRocky/rocky/build.py:22\u001b[39m, in \u001b[36mbuild_robot_diagram_two\u001b[39m\u001b[34m(urdf_path, time_step, gravity_vec, meshcat, enemy_target_xyz, enemy_target_rpy)\u001b[39m\n\u001b[32m      0\u001b[39m <Error retrieving source code with stack_data see ipython/ipython#13598>\n",
      "\u001b[31mTypeError\u001b[39m: SimBundle.__init__() got an unexpected keyword argument 'enemy_target_frame'"
     ]
    }
   ],
   "source": [
    "# simulate_two.py\n",
    "from rocky.build import build_robot_diagram_two\n",
    "from rocky import utils\n",
    "import os\n",
    "import numpy as np\n",
    "\n",
    "# assume repo_root and meshcat are already defined in your notebook / script\n",
    "urdf = os.path.join(repo_root, \"rocky.urdf\")   # version WITHOUT wall_to_world\n",
    "\n",
    "bundle = build_robot_diagram_two(\n",
    "    urdf_path=urdf,\n",
    "    time_step=1e-3,\n",
    "    gravity_vec=(0., 0., -9.0),\n",
    "    meshcat=meshcat,\n",
    ")\n",
    "\n",
    "plant, ctx, sim = bundle.plant, bundle.plant_context, bundle.simulator\n",
    "ally, enemy = bundle.ally, bundle.enemy\n",
    "\n",
    "shoulder_angle = np.deg2rad(-45)\n",
    "elbow_angle = np.deg2rad(-60)\n",
    "\n",
    "\n",
    "# Pose each arm independently\n",
    "utils.set_angles_for_instance(plant, ctx, ally,  shoulder_angle, elbow_angle)\n",
    "utils.set_angles_for_instance(plant, ctx, enemy, 0.0, 0.0)\n",
    "\n",
    "# Passive sim for both\n",
    "utils.set_zero_torques(plant, ctx)\n",
    "sim.AdvanceTo(1.0)\n"
   ]
  }
 ],
 "metadata": {
  "kernelspec": {
   "display_name": "venv (3.12.3)",
   "language": "python",
   "name": "python3"
  },
  "language_info": {
   "codemirror_mode": {
    "name": "ipython",
    "version": 3
   },
   "file_extension": ".py",
   "mimetype": "text/x-python",
   "name": "python",
   "nbconvert_exporter": "python",
   "pygments_lexer": "ipython3",
   "version": "3.12.3"
  }
 },
 "nbformat": 4,
 "nbformat_minor": 5
}
