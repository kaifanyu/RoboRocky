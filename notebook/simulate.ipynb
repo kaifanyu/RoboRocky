{
 "cells": [
  {
   "cell_type": "code",
   "execution_count": 1,
   "id": "7c5a4982",
   "metadata": {},
   "outputs": [
    {
     "name": "stderr",
     "output_type": "stream",
     "text": [
      "INFO:drake:Meshcat listening for connections at http://localhost:7000\n"
     ]
    },
    {
     "name": "stdout",
     "output_type": "stream",
     "text": [
      "Meshcat: http://localhost:7000\n"
     ]
    }
   ],
   "source": [
    "%load_ext autoreload\n",
    "%autoreload 2\n",
    "\n",
    "import sys, os\n",
    "from pydrake.all import StartMeshcat\n",
    "\n",
    "# if you're not launching jupyter from the repo root, fix the path:\n",
    "repo_root = os.path.abspath(os.path.join(os.getcwd(), \"..\"))\n",
    "if repo_root not in sys.path:\n",
    "    sys.path.insert(0, repo_root)\n",
    "\n",
    "meshcat = StartMeshcat()\n",
    "print(\"Meshcat:\", meshcat.web_url())"
   ]
  },
  {
   "cell_type": "code",
   "execution_count": 10,
   "id": "b25989c9",
   "metadata": {},
   "outputs": [
    {
     "data": {
      "text/plain": [
       "<pydrake.systems.analysis.SimulatorStatus at 0x71f20bfeb470>"
      ]
     },
     "execution_count": 10,
     "metadata": {},
     "output_type": "execute_result"
    }
   ],
   "source": [
    "# simulate_two.py\n",
    "from rocky.build import build_robot_diagram_two\n",
    "from rocky import utils\n",
    "import os\n",
    "import numpy as np\n",
    "\n",
    "# assume repo_root and meshcat are already defined in your notebook / script\n",
    "urdf = os.path.join(repo_root, \"rocky.urdf\")   # version WITHOUT wall_to_world\n",
    "\n",
    "bundle = build_robot_diagram_two(\n",
    "    urdf_path=urdf,\n",
    "    time_step=1e-3,\n",
    "    gravity_vec=(0., 0., -9.81),\n",
    "    meshcat=meshcat,\n",
    "    enemy_target_xyz=(0., 0.0, 1.1),      # 10 cm off the wall, slightly higher\n",
    "    enemy_target_rpy=(0.0, 0.0, 0.0),        # facing straight out\n",
    "    enemy_target_radius=0.05,                # 3 cm sphere\n",
    "    enemy_target_rgba=(0.2, 0.9, 0.2, 1.0),  # green target\n",
    ")\n",
    "\n",
    "\n",
    "plant, ctx, sim = bundle.plant, bundle.plant_context, bundle.simulator\n",
    "ally, enemy = bundle.ally, bundle.enemy\n",
    "\n",
    "shoulder_angle = np.deg2rad(-45)\n",
    "elbow_angle = np.deg2rad(-60)\n",
    "\n",
    "\n",
    "# Pose each arm independently\n",
    "utils.set_angles_for_instance(plant, ctx, ally,  shoulder_angle, elbow_angle)\n",
    "utils.set_angles_for_instance(plant, ctx, enemy, 0.0, 0.0)\n",
    "\n",
    "# Passive sim for both\n",
    "utils.set_zero_torques(plant, ctx)\n",
    "sim.AdvanceTo(1.0)\n"
   ]
  },
  {
   "cell_type": "code",
   "execution_count": 14,
   "id": "7601daa8",
   "metadata": {},
   "outputs": [
    {
     "name": "stdout",
     "output_type": "stream",
     "text": [
      "A:  RigidTransform(\n",
      "  R=RotationMatrix([\n",
      "    [-0.06396951124607304, -7.834005719052397e-18, -0.9979518533631462],\n",
      "    [1.2246467991473532e-16, -1.0, 0.0],\n",
      "    [-0.9979518533631462, -1.2221385429243458e-16, 0.06396951124607304],\n",
      "  ]),\n",
      "  p=[-0.5044665689877369, 0.0, 1.4513834213054126],\n",
      ")\n",
      "T:  [1.5 0.  0.6]\n"
     ]
    }
   ],
   "source": [
    "# Get frames\n",
    "A_EE = plant.GetFrameByName(\"glove\", model_instance=ally)\n",
    "T    = plant.GetFrameByName(\"enemy_target\", model_instance=enemy)\n",
    "\n",
    "# World poses\n",
    "X_W_ee = plant.CalcRelativeTransform(ctx, plant.world_frame(), A_EE)\n",
    "X_W_t  = plant.CalcRelativeTransform(ctx, plant.world_frame(), T)\n",
    "\n",
    "# Relative pose from ally EE to target (use for control)\n",
    "X_ee_t = plant.CalcRelativeTransform(ctx, A_EE, T)\n",
    "\n",
    "# For just the target point in world:\n",
    "p_W_t = X_W_t.translation()\n",
    "\n",
    "print(\"A: \", X_ee_t)\n",
    "print(\"T: \", p_W_t)"
   ]
  }
 ],
 "metadata": {
  "kernelspec": {
   "display_name": "venv (3.12.3)",
   "language": "python",
   "name": "python3"
  },
  "language_info": {
   "codemirror_mode": {
    "name": "ipython",
    "version": 3
   },
   "file_extension": ".py",
   "mimetype": "text/x-python",
   "name": "python",
   "nbconvert_exporter": "python",
   "pygments_lexer": "ipython3",
   "version": "3.12.3"
  }
 },
 "nbformat": 4,
 "nbformat_minor": 5
}
